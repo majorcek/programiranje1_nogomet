{
 "cells": [
  {
   "cell_type": "code",
   "execution_count": 1,
   "metadata": {
    "scrolled": true
   },
   "outputs": [
    {
     "data": {
      "text/html": [
       "<div>\n",
       "<style>\n",
       "    .dataframe thead tr:only-child th {\n",
       "        text-align: right;\n",
       "    }\n",
       "\n",
       "    .dataframe thead th {\n",
       "        text-align: left;\n",
       "    }\n",
       "\n",
       "    .dataframe tbody tr th {\n",
       "        vertical-align: top;\n",
       "    }\n",
       "</style>\n",
       "<table border=\"1\" class=\"dataframe\">\n",
       "  <thead>\n",
       "    <tr style=\"text-align: right;\">\n",
       "      <th></th>\n",
       "      <th>ime</th>\n",
       "      <th>pozicija</th>\n",
       "      <th>starost</th>\n",
       "      <th>sezona</th>\n",
       "      <th>država</th>\n",
       "      <th>klub1</th>\n",
       "      <th>liga1</th>\n",
       "      <th>klub2</th>\n",
       "      <th>liga2</th>\n",
       "      <th>cena</th>\n",
       "    </tr>\n",
       "  </thead>\n",
       "  <tbody>\n",
       "    <tr>\n",
       "      <th>0</th>\n",
       "      <td>Neymar</td>\n",
       "      <td>Left Wing</td>\n",
       "      <td>25</td>\n",
       "      <td>2017/2018</td>\n",
       "      <td>Brazil</td>\n",
       "      <td>FC Barcelona</td>\n",
       "      <td>Spain</td>\n",
       "      <td>Paris Saint-Germain</td>\n",
       "      <td>France</td>\n",
       "      <td>222.00</td>\n",
       "    </tr>\n",
       "    <tr>\n",
       "      <th>1</th>\n",
       "      <td>Paul Pogba</td>\n",
       "      <td>Central Midfield</td>\n",
       "      <td>23</td>\n",
       "      <td>2016/2017</td>\n",
       "      <td>France</td>\n",
       "      <td>Juventus FC</td>\n",
       "      <td>Italy</td>\n",
       "      <td>Manchester United</td>\n",
       "      <td>England</td>\n",
       "      <td>105.00</td>\n",
       "    </tr>\n",
       "    <tr>\n",
       "      <th>2</th>\n",
       "      <td>Ousmane Dembélé</td>\n",
       "      <td>Left Wing</td>\n",
       "      <td>20</td>\n",
       "      <td>2017/2018</td>\n",
       "      <td>France</td>\n",
       "      <td>Borussia Dortmund</td>\n",
       "      <td>Germany</td>\n",
       "      <td>FC Barcelona</td>\n",
       "      <td>Spain</td>\n",
       "      <td>105.00</td>\n",
       "    </tr>\n",
       "    <tr>\n",
       "      <th>3</th>\n",
       "      <td>Gareth Bale</td>\n",
       "      <td>Right Wing</td>\n",
       "      <td>24</td>\n",
       "      <td>2013/2014</td>\n",
       "      <td>Wales</td>\n",
       "      <td>Tottenham Hotspur</td>\n",
       "      <td>England</td>\n",
       "      <td>Real Madrid</td>\n",
       "      <td>Spain</td>\n",
       "      <td>101.00</td>\n",
       "    </tr>\n",
       "    <tr>\n",
       "      <th>4</th>\n",
       "      <td>Cristiano Ronaldo</td>\n",
       "      <td>Centre-Forward</td>\n",
       "      <td>24</td>\n",
       "      <td>2009/2010</td>\n",
       "      <td>Portugal</td>\n",
       "      <td>Manchester United</td>\n",
       "      <td>England</td>\n",
       "      <td>Real Madrid</td>\n",
       "      <td>Spain</td>\n",
       "      <td>94.00</td>\n",
       "    </tr>\n",
       "    <tr>\n",
       "      <th>5</th>\n",
       "      <td>Gonzalo Higuaín</td>\n",
       "      <td>Centre-Forward</td>\n",
       "      <td>28</td>\n",
       "      <td>2016/2017</td>\n",
       "      <td>Argentina</td>\n",
       "      <td>SSC Napoli</td>\n",
       "      <td>Italy</td>\n",
       "      <td>Juventus FC</td>\n",
       "      <td>Italy</td>\n",
       "      <td>90.00</td>\n",
       "    </tr>\n",
       "    <tr>\n",
       "      <th>6</th>\n",
       "      <td>Neymar</td>\n",
       "      <td>Left Wing</td>\n",
       "      <td>21</td>\n",
       "      <td>2013/2014</td>\n",
       "      <td>Brazil</td>\n",
       "      <td>Santos FC</td>\n",
       "      <td>Brazil</td>\n",
       "      <td>FC Barcelona</td>\n",
       "      <td>Spain</td>\n",
       "      <td>88.20</td>\n",
       "    </tr>\n",
       "    <tr>\n",
       "      <th>7</th>\n",
       "      <td>Romelu Lukaku</td>\n",
       "      <td>Centre-Forward</td>\n",
       "      <td>24</td>\n",
       "      <td>2017/2018</td>\n",
       "      <td>Belgium</td>\n",
       "      <td>Everton FC</td>\n",
       "      <td>England</td>\n",
       "      <td>Manchester United</td>\n",
       "      <td>England</td>\n",
       "      <td>84.70</td>\n",
       "    </tr>\n",
       "    <tr>\n",
       "      <th>8</th>\n",
       "      <td>Luis Suárez</td>\n",
       "      <td>Centre-Forward</td>\n",
       "      <td>27</td>\n",
       "      <td>2014/2015</td>\n",
       "      <td>Uruguay</td>\n",
       "      <td>Liverpool FC</td>\n",
       "      <td>England</td>\n",
       "      <td>FC Barcelona</td>\n",
       "      <td>Spain</td>\n",
       "      <td>81.72</td>\n",
       "    </tr>\n",
       "    <tr>\n",
       "      <th>9</th>\n",
       "      <td>Virgil van Dijk</td>\n",
       "      <td>Centre-Back</td>\n",
       "      <td>26</td>\n",
       "      <td>2017/2018</td>\n",
       "      <td>Netherlands</td>\n",
       "      <td>Southampton FC</td>\n",
       "      <td>England</td>\n",
       "      <td>Liverpool FC</td>\n",
       "      <td>England</td>\n",
       "      <td>78.80</td>\n",
       "    </tr>\n",
       "    <tr>\n",
       "      <th>10</th>\n",
       "      <td>Zinédine Zidane</td>\n",
       "      <td>Attacking Midfield</td>\n",
       "      <td>29</td>\n",
       "      <td>2001/2002</td>\n",
       "      <td>France</td>\n",
       "      <td>Juventus FC</td>\n",
       "      <td>Italy</td>\n",
       "      <td>Real Madrid</td>\n",
       "      <td>Spain</td>\n",
       "      <td>77.50</td>\n",
       "    </tr>\n",
       "    <tr>\n",
       "      <th>11</th>\n",
       "      <td>James Rodríguez</td>\n",
       "      <td>Attacking Midfield</td>\n",
       "      <td>23</td>\n",
       "      <td>2014/2015</td>\n",
       "      <td>Colombia</td>\n",
       "      <td>AS Monaco</td>\n",
       "      <td>France</td>\n",
       "      <td>Real Madrid</td>\n",
       "      <td>Spain</td>\n",
       "      <td>75.00</td>\n",
       "    </tr>\n",
       "    <tr>\n",
       "      <th>12</th>\n",
       "      <td>Ángel Di María</td>\n",
       "      <td>Right Wing</td>\n",
       "      <td>26</td>\n",
       "      <td>2014/2015</td>\n",
       "      <td>Argentina</td>\n",
       "      <td>Real Madrid</td>\n",
       "      <td>Spain</td>\n",
       "      <td>Manchester United</td>\n",
       "      <td>England</td>\n",
       "      <td>75.00</td>\n",
       "    </tr>\n",
       "    <tr>\n",
       "      <th>13</th>\n",
       "      <td>Naby Keita</td>\n",
       "      <td>Central Midfield</td>\n",
       "      <td>23</td>\n",
       "      <td>2018/2019</td>\n",
       "      <td>Guinea</td>\n",
       "      <td>RB Leipzig</td>\n",
       "      <td>Germany</td>\n",
       "      <td>Liverpool FC</td>\n",
       "      <td>England</td>\n",
       "      <td>75.00</td>\n",
       "    </tr>\n",
       "    <tr>\n",
       "      <th>14</th>\n",
       "      <td>Kevin De Bruyne</td>\n",
       "      <td>Attacking Midfield</td>\n",
       "      <td>24</td>\n",
       "      <td>2015/2016</td>\n",
       "      <td>Belgium</td>\n",
       "      <td>VfL Wolfsburg</td>\n",
       "      <td>Germany</td>\n",
       "      <td>Manchester City</td>\n",
       "      <td>England</td>\n",
       "      <td>74.00</td>\n",
       "    </tr>\n",
       "    <tr>\n",
       "      <th>15</th>\n",
       "      <td>Zlatan Ibrahimovic</td>\n",
       "      <td>Centre-Forward</td>\n",
       "      <td>27</td>\n",
       "      <td>2009/2010</td>\n",
       "      <td>Sweden</td>\n",
       "      <td>Inter Milan</td>\n",
       "      <td>Italy</td>\n",
       "      <td>FC Barcelona</td>\n",
       "      <td>Spain</td>\n",
       "      <td>69.50</td>\n",
       "    </tr>\n",
       "    <tr>\n",
       "      <th>16</th>\n",
       "      <td>Diego Costa</td>\n",
       "      <td>Centre-Forward</td>\n",
       "      <td>29</td>\n",
       "      <td>2017/2018</td>\n",
       "      <td>Spain</td>\n",
       "      <td>Chelsea FC</td>\n",
       "      <td>England</td>\n",
       "      <td>Atlético Madrid</td>\n",
       "      <td>Spain</td>\n",
       "      <td>66.00</td>\n",
       "    </tr>\n",
       "    <tr>\n",
       "      <th>17</th>\n",
       "      <td>Kaká</td>\n",
       "      <td>Attacking Midfield</td>\n",
       "      <td>27</td>\n",
       "      <td>2009/2010</td>\n",
       "      <td>Brazil</td>\n",
       "      <td>AC Milan</td>\n",
       "      <td>Italy</td>\n",
       "      <td>Real Madrid</td>\n",
       "      <td>Spain</td>\n",
       "      <td>65.00</td>\n",
       "    </tr>\n",
       "    <tr>\n",
       "      <th>18</th>\n",
       "      <td>Edinson Cavani</td>\n",
       "      <td>Centre-Forward</td>\n",
       "      <td>26</td>\n",
       "      <td>2013/2014</td>\n",
       "      <td>Uruguay</td>\n",
       "      <td>SSC Napoli</td>\n",
       "      <td>Italy</td>\n",
       "      <td>Paris Saint-Germain</td>\n",
       "      <td>France</td>\n",
       "      <td>64.50</td>\n",
       "    </tr>\n",
       "    <tr>\n",
       "      <th>19</th>\n",
       "      <td>Ángel Di María</td>\n",
       "      <td>Right Wing</td>\n",
       "      <td>27</td>\n",
       "      <td>2015/2016</td>\n",
       "      <td>Argentina</td>\n",
       "      <td>Manchester United</td>\n",
       "      <td>England</td>\n",
       "      <td>Paris Saint-Germain</td>\n",
       "      <td>France</td>\n",
       "      <td>63.00</td>\n",
       "    </tr>\n",
       "  </tbody>\n",
       "</table>\n",
       "</div>"
      ],
      "text/plain": [
       "                   ime            pozicija  starost     sezona       država  \\\n",
       "0               Neymar           Left Wing       25  2017/2018       Brazil   \n",
       "1           Paul Pogba    Central Midfield       23  2016/2017       France   \n",
       "2      Ousmane Dembélé           Left Wing       20  2017/2018       France   \n",
       "3          Gareth Bale          Right Wing       24  2013/2014        Wales   \n",
       "4    Cristiano Ronaldo      Centre-Forward       24  2009/2010     Portugal   \n",
       "5      Gonzalo Higuaín      Centre-Forward       28  2016/2017    Argentina   \n",
       "6               Neymar           Left Wing       21  2013/2014       Brazil   \n",
       "7        Romelu Lukaku      Centre-Forward       24  2017/2018      Belgium   \n",
       "8          Luis Suárez      Centre-Forward       27  2014/2015      Uruguay   \n",
       "9      Virgil van Dijk         Centre-Back       26  2017/2018  Netherlands   \n",
       "10     Zinédine Zidane  Attacking Midfield       29  2001/2002       France   \n",
       "11     James Rodríguez  Attacking Midfield       23  2014/2015     Colombia   \n",
       "12      Ángel Di María          Right Wing       26  2014/2015    Argentina   \n",
       "13          Naby Keita    Central Midfield       23  2018/2019       Guinea   \n",
       "14     Kevin De Bruyne  Attacking Midfield       24  2015/2016      Belgium   \n",
       "15  Zlatan Ibrahimovic      Centre-Forward       27  2009/2010       Sweden   \n",
       "16         Diego Costa      Centre-Forward       29  2017/2018        Spain   \n",
       "17                Kaká  Attacking Midfield       27  2009/2010       Brazil   \n",
       "18      Edinson Cavani      Centre-Forward       26  2013/2014      Uruguay   \n",
       "19      Ángel Di María          Right Wing       27  2015/2016    Argentina   \n",
       "\n",
       "                klub1    liga1                klub2    liga2    cena  \n",
       "0        FC Barcelona    Spain  Paris Saint-Germain   France  222.00  \n",
       "1         Juventus FC    Italy    Manchester United  England  105.00  \n",
       "2   Borussia Dortmund  Germany         FC Barcelona    Spain  105.00  \n",
       "3   Tottenham Hotspur  England          Real Madrid    Spain  101.00  \n",
       "4   Manchester United  England          Real Madrid    Spain   94.00  \n",
       "5          SSC Napoli    Italy          Juventus FC    Italy   90.00  \n",
       "6           Santos FC   Brazil         FC Barcelona    Spain   88.20  \n",
       "7          Everton FC  England    Manchester United  England   84.70  \n",
       "8        Liverpool FC  England         FC Barcelona    Spain   81.72  \n",
       "9      Southampton FC  England         Liverpool FC  England   78.80  \n",
       "10        Juventus FC    Italy          Real Madrid    Spain   77.50  \n",
       "11          AS Monaco   France          Real Madrid    Spain   75.00  \n",
       "12        Real Madrid    Spain    Manchester United  England   75.00  \n",
       "13         RB Leipzig  Germany         Liverpool FC  England   75.00  \n",
       "14      VfL Wolfsburg  Germany      Manchester City  England   74.00  \n",
       "15        Inter Milan    Italy         FC Barcelona    Spain   69.50  \n",
       "16         Chelsea FC  England      Atlético Madrid    Spain   66.00  \n",
       "17           AC Milan    Italy          Real Madrid    Spain   65.00  \n",
       "18         SSC Napoli    Italy  Paris Saint-Germain   France   64.50  \n",
       "19  Manchester United  England  Paris Saint-Germain   France   63.00  "
      ]
     },
     "execution_count": 1,
     "metadata": {},
     "output_type": "execute_result"
    }
   ],
   "source": [
    "import pandas as pd\n",
    "import os\n",
    "import numpy as np\n",
    "import matplotlib.pyplot as plt\n",
    "%matplotlib inline\n",
    "pd.options.display.max_rows = 25\n",
    "             \n",
    "prestopi = pd.read_csv('prestopi1.csv', sep = ';', encoding = 'cp1250', engine = 'python')\n",
    "prestopi['cena'] = prestopi['cena'].str.replace(',','.')\n",
    "prestopi['cena'] = prestopi['cena'].apply(pd.to_numeric)\n",
    "\n",
    "prestopi = prestopi.replace(to_replace=\"1.feb\", value=\"01/02\")\n",
    "prestopi = prestopi.replace(to_replace=\"2.mar\", value=\"02/03\")\n",
    "prestopi = prestopi.replace(to_replace=\"3.apr\", value=\"03/04\")\n",
    "prestopi = prestopi.replace(to_replace=\"4.maj\", value=\"04/05\")\n",
    "prestopi = prestopi.replace(to_replace=\"5.jun\", value=\"05/06\")\n",
    "prestopi = prestopi.replace(to_replace=\"6.jul\", value=\"06/07\")\n",
    "prestopi = prestopi.replace(to_replace=\"7.avg\", value=\"07/08\")\n",
    "prestopi = prestopi.replace(to_replace=\"8.sep\", value=\"08/09\")\n",
    "prestopi = prestopi.replace(to_replace=\"9.okt\", value=\"09/10\")\n",
    "prestopi = prestopi.replace(to_replace=\"10.nov\", value=\"10/11\")\n",
    "prestopi = prestopi.replace(to_replace=\"11.dec\", value=\"11/12\")\n",
    "prestopi = prestopi.replace(to_replace=\"dec.13\", value=\"12/13\")\n",
    "\n",
    "prestopi['liga1'] = prestopi['liga1'].str.replace('Monaco','France')\n",
    "prestopi['liga2'] = prestopi['liga2'].str.replace('Monaco','France')\n",
    "\n",
    "prestopi['ime'] = prestopi['ime'].str.replace('ď','i')\n",
    "\n",
    "prestopi['sezona'] = prestopi['sezona'].str.replace('97/98','1997/1998')\n",
    "prestopi['sezona'] = prestopi['sezona'].str.replace('98/99','1998/1999')\n",
    "prestopi['sezona'] = prestopi['sezona'].str.replace('99/00','1999/2000')\n",
    "prestopi['sezona'] = prestopi['sezona'].str.replace('00/01','2000/2001')\n",
    "prestopi['sezona'] = prestopi['sezona'].str.replace('01/02','2001/2002')\n",
    "prestopi['sezona'] = prestopi['sezona'].str.replace('02/03','2002/2003')\n",
    "prestopi['sezona'] = prestopi['sezona'].str.replace('03/04','2003/2004')\n",
    "prestopi['sezona'] = prestopi['sezona'].str.replace('04/05','2004/2005')\n",
    "prestopi['sezona'] = prestopi['sezona'].str.replace('05/06','2005/2006')\n",
    "prestopi['sezona'] = prestopi['sezona'].str.replace('06/07','2006/2007')\n",
    "prestopi['sezona'] = prestopi['sezona'].str.replace('07/08','2007/2008')\n",
    "prestopi['sezona'] = prestopi['sezona'].str.replace('08/09','2008/2009')\n",
    "prestopi['sezona'] = prestopi['sezona'].str.replace('09/10','2009/2010')\n",
    "prestopi['sezona'] = prestopi['sezona'].str.replace('10/11','2010/2011')\n",
    "prestopi['sezona'] = prestopi['sezona'].str.replace('11/12','2011/2012')\n",
    "prestopi['sezona'] = prestopi['sezona'].str.replace('12/13','2012/2013')\n",
    "prestopi['sezona'] = prestopi['sezona'].str.replace('13/14','2013/2014')\n",
    "prestopi['sezona'] = prestopi['sezona'].str.replace('14/15','2014/2015')\n",
    "prestopi['sezona'] = prestopi['sezona'].str.replace('15/16','2015/2016')\n",
    "prestopi['sezona'] = prestopi['sezona'].str.replace('16/17','2016/2017')\n",
    "prestopi['sezona'] = prestopi['sezona'].str.replace('17/18','2017/2018')\n",
    "prestopi['sezona'] = prestopi['sezona'].str.replace('18/19','2018/2019')\n",
    "\n",
    "prestopi = prestopi.sort_values('cena', ascending=False)\n",
    "prestopi.head(20)"
   ]
  },
  {
   "cell_type": "markdown",
   "metadata": {},
   "source": [
    "### Pregled"
   ]
  },
  {
   "cell_type": "code",
   "execution_count": 2,
   "metadata": {},
   "outputs": [
    {
     "data": {
      "text/plain": [
       "<matplotlib.axes._subplots.AxesSubplot at 0x1c8790b630>"
      ]
     },
     "execution_count": 2,
     "metadata": {},
     "output_type": "execute_result"
    },
    {
     "data": {
      "image/png": "[encoded data removed]",
      "text/plain": [
       "<matplotlib.figure.Figure at 0x1c8e7efda0>"
      ]
     },
     "metadata": {},
     "output_type": "display_data"
    }
   ],
   "source": [
    "prestopi['cena'].hist(color='green', alpha=0.7, bins=50)"
   ]
  },
  {
   "cell_type": "markdown",
   "metadata": {},
   "source": [
    "Vidimo, da so prestopi nad 50 milijonov evrov precej redki. Ta graf tudi pokaže, zakaj je letošnji prestop Neymarja za 222 milijonov evrov dvignil toliko prahu. "
   ]
  },
  {
   "cell_type": "code",
   "execution_count": 3,
   "metadata": {},
   "outputs": [
    {
     "data": {
      "text/html": [
       "<div>\n",
       "<style>\n",
       "    .dataframe thead tr:only-child th {\n",
       "        text-align: right;\n",
       "    }\n",
       "\n",
       "    .dataframe thead th {\n",
       "        text-align: left;\n",
       "    }\n",
       "\n",
       "    .dataframe tbody tr th {\n",
       "        vertical-align: top;\n",
       "    }\n",
       "</style>\n",
       "<table border=\"1\" class=\"dataframe\">\n",
       "  <thead>\n",
       "    <tr style=\"text-align: right;\">\n",
       "      <th></th>\n",
       "      <th>pozicija</th>\n",
       "      <th>št. igralcev</th>\n",
       "    </tr>\n",
       "  </thead>\n",
       "  <tbody>\n",
       "    <tr>\n",
       "      <th>3</th>\n",
       "      <td>Centre-Forward</td>\n",
       "      <td>69</td>\n",
       "    </tr>\n",
       "    <tr>\n",
       "      <th>7</th>\n",
       "      <td>Left Wing</td>\n",
       "      <td>32</td>\n",
       "    </tr>\n",
       "    <tr>\n",
       "      <th>2</th>\n",
       "      <td>Centre-Back</td>\n",
       "      <td>31</td>\n",
       "    </tr>\n",
       "    <tr>\n",
       "      <th>1</th>\n",
       "      <td>Central Midfield</td>\n",
       "      <td>29</td>\n",
       "    </tr>\n",
       "    <tr>\n",
       "      <th>0</th>\n",
       "      <td>Attacking Midfield</td>\n",
       "      <td>27</td>\n",
       "    </tr>\n",
       "    <tr>\n",
       "      <th>10</th>\n",
       "      <td>Right Wing</td>\n",
       "      <td>20</td>\n",
       "    </tr>\n",
       "    <tr>\n",
       "      <th>4</th>\n",
       "      <td>Defensive Midfield</td>\n",
       "      <td>14</td>\n",
       "    </tr>\n",
       "    <tr>\n",
       "      <th>11</th>\n",
       "      <td>Right-Back</td>\n",
       "      <td>8</td>\n",
       "    </tr>\n",
       "    <tr>\n",
       "      <th>8</th>\n",
       "      <td>Left-Back</td>\n",
       "      <td>6</td>\n",
       "    </tr>\n",
       "    <tr>\n",
       "      <th>5</th>\n",
       "      <td>Keeper</td>\n",
       "      <td>5</td>\n",
       "    </tr>\n",
       "    <tr>\n",
       "      <th>12</th>\n",
       "      <td>Secondary Striker</td>\n",
       "      <td>5</td>\n",
       "    </tr>\n",
       "    <tr>\n",
       "      <th>9</th>\n",
       "      <td>Right Midfield</td>\n",
       "      <td>3</td>\n",
       "    </tr>\n",
       "    <tr>\n",
       "      <th>6</th>\n",
       "      <td>Left Midfield</td>\n",
       "      <td>1</td>\n",
       "    </tr>\n",
       "  </tbody>\n",
       "</table>\n",
       "</div>"
      ],
      "text/plain": [
       "              pozicija  št. igralcev\n",
       "3       Centre-Forward            69\n",
       "7            Left Wing            32\n",
       "2          Centre-Back            31\n",
       "1     Central Midfield            29\n",
       "0   Attacking Midfield            27\n",
       "10          Right Wing            20\n",
       "4   Defensive Midfield            14\n",
       "11          Right-Back             8\n",
       "8            Left-Back             6\n",
       "5               Keeper             5\n",
       "12   Secondary Striker             5\n",
       "9       Right Midfield             3\n",
       "6        Left Midfield             1"
      ]
     },
     "execution_count": 3,
     "metadata": {},
     "output_type": "execute_result"
    }
   ],
   "source": [
    "po_pozicijah = prestopi.groupby('pozicija').agg({'pozicija':'size'})\n",
    "po_pozicijah = po_pozicijah.reindex_axis(['pozicija'], axis=1)\n",
    "po_pozicijah = po_pozicijah.rename_axis(None).reset_index()\n",
    "po_pozicijah.columns = ['pozicija','št. igralcev',]\n",
    "po_pozicijah.sort_values('št. igralcev', ascending = False)"
   ]
  },
  {
   "cell_type": "markdown",
   "metadata": {},
   "source": [
    "Po pričakovanjih velike cene dosegajo igralci, ki so zadolženi predvsem za pripravo in doseganje golov. Nekoliko me je presenetila kar velika razlika med številom levih in desnih krilnih igralcev, na dnu pa so po pričakovanjih take oznake pozicij, ki se danes redko uporabljajo (desni branilec je desno krilo ali osrednji vezist)."
   ]
  },
  {
   "cell_type": "code",
   "execution_count": 4,
   "metadata": {},
   "outputs": [
    {
     "data": {
      "text/html": [
       "<div>\n",
       "<style>\n",
       "    .dataframe thead tr:only-child th {\n",
       "        text-align: right;\n",
       "    }\n",
       "\n",
       "    .dataframe thead th {\n",
       "        text-align: left;\n",
       "    }\n",
       "\n",
       "    .dataframe tbody tr th {\n",
       "        vertical-align: top;\n",
       "    }\n",
       "</style>\n",
       "<table border=\"1\" class=\"dataframe\">\n",
       "  <thead>\n",
       "    <tr style=\"text-align: right;\">\n",
       "      <th></th>\n",
       "      <th>starost</th>\n",
       "      <th>št. igralcev</th>\n",
       "      <th>povprečna cena prestopa</th>\n",
       "    </tr>\n",
       "  </thead>\n",
       "  <tbody>\n",
       "    <tr>\n",
       "      <th>0</th>\n",
       "      <td>18</td>\n",
       "      <td>5</td>\n",
       "      <td>36.600000</td>\n",
       "    </tr>\n",
       "    <tr>\n",
       "      <th>1</th>\n",
       "      <td>19</td>\n",
       "      <td>7</td>\n",
       "      <td>35.400000</td>\n",
       "    </tr>\n",
       "    <tr>\n",
       "      <th>2</th>\n",
       "      <td>20</td>\n",
       "      <td>15</td>\n",
       "      <td>38.413333</td>\n",
       "    </tr>\n",
       "    <tr>\n",
       "      <th>3</th>\n",
       "      <td>21</td>\n",
       "      <td>15</td>\n",
       "      <td>39.737333</td>\n",
       "    </tr>\n",
       "    <tr>\n",
       "      <th>4</th>\n",
       "      <td>22</td>\n",
       "      <td>19</td>\n",
       "      <td>36.215789</td>\n",
       "    </tr>\n",
       "    <tr>\n",
       "      <th>5</th>\n",
       "      <td>23</td>\n",
       "      <td>35</td>\n",
       "      <td>38.880857</td>\n",
       "    </tr>\n",
       "    <tr>\n",
       "      <th>6</th>\n",
       "      <td>24</td>\n",
       "      <td>34</td>\n",
       "      <td>40.151471</td>\n",
       "    </tr>\n",
       "    <tr>\n",
       "      <th>7</th>\n",
       "      <td>25</td>\n",
       "      <td>33</td>\n",
       "      <td>40.146364</td>\n",
       "    </tr>\n",
       "    <tr>\n",
       "      <th>8</th>\n",
       "      <td>26</td>\n",
       "      <td>18</td>\n",
       "      <td>43.066667</td>\n",
       "    </tr>\n",
       "    <tr>\n",
       "      <th>9</th>\n",
       "      <td>27</td>\n",
       "      <td>32</td>\n",
       "      <td>41.689688</td>\n",
       "    </tr>\n",
       "    <tr>\n",
       "      <th>10</th>\n",
       "      <td>28</td>\n",
       "      <td>17</td>\n",
       "      <td>35.694118</td>\n",
       "    </tr>\n",
       "    <tr>\n",
       "      <th>11</th>\n",
       "      <td>29</td>\n",
       "      <td>16</td>\n",
       "      <td>41.128125</td>\n",
       "    </tr>\n",
       "    <tr>\n",
       "      <th>12</th>\n",
       "      <td>30</td>\n",
       "      <td>3</td>\n",
       "      <td>32.666667</td>\n",
       "    </tr>\n",
       "    <tr>\n",
       "      <th>13</th>\n",
       "      <td>31</td>\n",
       "      <td>1</td>\n",
       "      <td>36.150000</td>\n",
       "    </tr>\n",
       "  </tbody>\n",
       "</table>\n",
       "</div>"
      ],
      "text/plain": [
       "    starost  št. igralcev  povprečna cena prestopa\n",
       "0        18             5                36.600000\n",
       "1        19             7                35.400000\n",
       "2        20            15                38.413333\n",
       "3        21            15                39.737333\n",
       "4        22            19                36.215789\n",
       "5        23            35                38.880857\n",
       "6        24            34                40.151471\n",
       "7        25            33                40.146364\n",
       "8        26            18                43.066667\n",
       "9        27            32                41.689688\n",
       "10       28            17                35.694118\n",
       "11       29            16                41.128125\n",
       "12       30             3                32.666667\n",
       "13       31             1                36.150000"
      ]
     },
     "execution_count": 4,
     "metadata": {},
     "output_type": "execute_result"
    }
   ],
   "source": [
    "po_starosti = prestopi.groupby('starost').agg({'starost':'size', 'cena':'mean'})\n",
    "po_starosti = po_starosti.reindex_axis(['starost','cena'], axis=1)\n",
    "po_starosti = po_starosti.rename_axis(None).reset_index()\n",
    "po_starosti.columns = ['starost', 'št. igralcev','povprečna cena prestopa']\n",
    "po_starosti"
   ]
  },
  {
   "cell_type": "code",
   "execution_count": 5,
   "metadata": {},
   "outputs": [
    {
     "data": {
      "image/png": "[encoded data removed]",
      "text/plain": [
       "<matplotlib.figure.Figure at 0x1c91734c50>"
      ]
     },
     "metadata": {},
     "output_type": "display_data"
    }
   ],
   "source": [
    "graf = po_starosti.plot(kind = 'bar', x = 'starost', secondary_y=['povprečna cena prestopa'])\n",
    "graf.right_ax.set_ylabel('v milijonih €')\n",
    "graf.get_legend().set_bbox_to_anchor((0.6, 1.2))"
   ]
  },
  {
   "cell_type": "markdown",
   "metadata": {},
   "source": [
    "Tukaj me je rezultat delno presenetil. V skladu z mojimi pričakovanji igralci najvišjo vrednost dosegajo okrog 25. leta. Pričakoval sem, da se bo tudi cena glede na starost spreminjala podobno kot se število prestopov. Mislim, da bi tak rezultat dobili, če bi gledali vse prestope in ne zgolj najdražje. <br>\n",
    "Nenavadno je tudi dokaj nizko število prestopov igralcev, starih 26 let. Vseeno se zdi, da gre tukaj za slučaj, saj so takrat v \"najboljših nogometnih letih\" in ni razloga, da klubi ne bi bili pripravljeni odšteti veliko denarja."
   ]
  },
  {
   "cell_type": "markdown",
   "metadata": {},
   "source": [
    "### Prestopi po ligah in klubih"
   ]
  },
  {
   "cell_type": "code",
   "execution_count": 6,
   "metadata": {
    "collapsed": true
   },
   "outputs": [],
   "source": [
    "po_ligah1 = prestopi.groupby('liga1').agg({'liga1':'size'})\n",
    "po_ligah1 = po_ligah1.reindex_axis(['liga1'], axis=1)\n",
    "po_ligah1 = po_ligah1.rename_axis(None).reset_index()\n",
    "po_ligah1.columns = ['liga', 'št. igralcev']\n",
    "po_ligah1 = po_ligah1.sort_values('št. igralcev', ascending = False)"
   ]
  },
  {
   "cell_type": "code",
   "execution_count": 7,
   "metadata": {
    "collapsed": true
   },
   "outputs": [],
   "source": [
    "po_ligah2 = prestopi.groupby('liga2').agg({'liga2':'size'})\n",
    "po_ligah2\n",
    "po_ligah2 = po_ligah2.reindex_axis(['liga2'], axis=1)\n",
    "po_ligah2 = po_ligah2.rename_axis(None).reset_index()\n",
    "po_ligah2.columns = ['liga', 'št. igralcev']\n",
    "po_ligah2 = po_ligah2.sort_values('št. igralcev', ascending = False)"
   ]
  },
  {
   "cell_type": "code",
   "execution_count": 8,
   "metadata": {
    "collapsed": true
   },
   "outputs": [],
   "source": [
    "liga1 = po_ligah1\n",
    "liga1.columns = ['liga', 'št. prodanih igralcev']\n",
    "liga2 = po_ligah2\n",
    "liga2.columns=['liga', 'št. kupljenih igralcev']\n",
    "\n",
    "lige_združeno = pd.merge(liga1, liga2, how = 'outer', on='liga').sort_values('št. kupljenih igralcev', ascending = False)\n",
    "#lige_združeno.plot(kind = 'bar', x = 'liga')"
   ]
  },
  {
   "cell_type": "code",
   "execution_count": 9,
   "metadata": {},
   "outputs": [
    {
     "data": {
      "text/plain": [
       "<matplotlib.axes._subplots.AxesSubplot at 0x1c917bd6a0>"
      ]
     },
     "execution_count": 9,
     "metadata": {},
     "output_type": "execute_result"
    },
    {
     "data": {
      "image/png": "[encoded data removed]",
      "text/plain": [
       "<matplotlib.figure.Figure at 0x1c91b2c630>"
      ]
     },
     "metadata": {},
     "output_type": "display_data"
    }
   ],
   "source": [
    "po_državah2 = prestopi.groupby('država').count()['ime'].sort_values(ascending = False).head(15)\n",
    "po_državah2 = po_državah2.rename_axis(None).reset_index()\n",
    "po_državah2.columns = ['liga', 'narodnost']\n",
    "\n",
    "lige_združeno2 = pd.merge(lige_združeno, po_državah2, how = 'left', on='liga').sort_values('št. kupljenih igralcev', ascending = False)\n",
    "lige_združeno2.plot(kind = 'bar', x = 'liga')"
   ]
  },
  {
   "cell_type": "markdown",
   "metadata": {},
   "source": [
    "V skladu s pričakovanji si največ nakupov lahko privoščijo v Angliji, kjer je 6 ali 7 klubov, ki so lahko privoščijo take cene. V Španiji skorajda vse največje nakupe opravita Real Madrid in Barcelona, ostali jima ne morejo konkurirati, zato je tudi skupno število manjše. Poleg tega sta se ta kluba bolj osredotočala na najboljše (najdražje) igralce, tako da si jih niti nista mogla privoščiti toliko.<br>\n",
    "Vidimo, da je v Angliji večina najboljših nogometašev iz tujine, saj sami nimajo dovolj res odličnih igralcev.<br>\n",
    "V Nemčiji je en klub, ki je v vsem (slovesu, dosežkih, kadru, financah...) daleč pred ostalimi, to je Bayern Munchen. Posledica tega je, da si večina Nemcev želi igrati v Bayernu in zato Bayernu ni potrebno plačevati tolikšnih znesekov kot drugim največjim evropskim klubom. Ostali nemški klubi pa nimajo toliko sredstev, da bi prav pogosto kupovali igralce za 25 milijonov evrov in več.<br>\n",
    "Tudi v Italiji se je prodalo opazno več igralcev kot se jih je kupilo. Posledično so se italijanski klubi z izjemo Juventusa v zadnjih letih slabo odrezali v evropskih tekmovanjih, tudi v državni ligi je Juventus zmagal že šestkrat zapored.\n",
    "<br>\n",
    "Na spodnjem grafu so za lažjo predstavo države, od koder prihajajo najdražji nogometaši, urejene po številu igralcev. "
   ]
  },
  {
   "cell_type": "code",
   "execution_count": 10,
   "metadata": {},
   "outputs": [
    {
     "data": {
      "text/plain": [
       "<matplotlib.axes._subplots.AxesSubplot at 0x1c91c4cbe0>"
      ]
     },
     "execution_count": 10,
     "metadata": {},
     "output_type": "execute_result"
    },
    {
     "data": {
      "image/png": "[encoded data removed]",
      "text/plain": [
       "<matplotlib.figure.Figure at 0x1c8e7efcc0>"
      ]
     },
     "metadata": {},
     "output_type": "display_data"
    }
   ],
   "source": [
    "po_državah = prestopi.groupby('država').count()['ime'].sort_values(ascending = False).head(15)\n",
    "po_državah.plot(kind=\"bar\", title='Najdražjih 250 igralcev po državah')"
   ]
  },
  {
   "cell_type": "code",
   "execution_count": 11,
   "metadata": {},
   "outputs": [
    {
     "data": {
      "text/html": [
       "<div>\n",
       "<style>\n",
       "    .dataframe thead tr:only-child th {\n",
       "        text-align: right;\n",
       "    }\n",
       "\n",
       "    .dataframe thead th {\n",
       "        text-align: left;\n",
       "    }\n",
       "\n",
       "    .dataframe tbody tr th {\n",
       "        vertical-align: top;\n",
       "    }\n",
       "</style>\n",
       "<table border=\"1\" class=\"dataframe\">\n",
       "  <thead>\n",
       "    <tr style=\"text-align: right;\">\n",
       "      <th></th>\n",
       "      <th>klub</th>\n",
       "      <th>št. igralcev</th>\n",
       "      <th>skupna vrednost prestopov</th>\n",
       "    </tr>\n",
       "  </thead>\n",
       "  <tbody>\n",
       "    <tr>\n",
       "      <th>26</th>\n",
       "      <td>FC Porto</td>\n",
       "      <td>11</td>\n",
       "      <td>379.60</td>\n",
       "    </tr>\n",
       "    <tr>\n",
       "      <th>49</th>\n",
       "      <td>SL Benfica</td>\n",
       "      <td>11</td>\n",
       "      <td>353.50</td>\n",
       "    </tr>\n",
       "    <tr>\n",
       "      <th>69</th>\n",
       "      <td>Valencia CF</td>\n",
       "      <td>9</td>\n",
       "      <td>324.05</td>\n",
       "    </tr>\n",
       "    <tr>\n",
       "      <th>17</th>\n",
       "      <td>Chelsea FC</td>\n",
       "      <td>9</td>\n",
       "      <td>396.29</td>\n",
       "    </tr>\n",
       "    <tr>\n",
       "      <th>47</th>\n",
       "      <td>Real Madrid</td>\n",
       "      <td>8</td>\n",
       "      <td>355.50</td>\n",
       "    </tr>\n",
       "    <tr>\n",
       "      <th>4</th>\n",
       "      <td>AS Roma</td>\n",
       "      <td>8</td>\n",
       "      <td>251.40</td>\n",
       "    </tr>\n",
       "    <tr>\n",
       "      <th>11</th>\n",
       "      <td>Atlético Madrid</td>\n",
       "      <td>8</td>\n",
       "      <td>289.41</td>\n",
       "    </tr>\n",
       "    <tr>\n",
       "      <th>2</th>\n",
       "      <td>ACF Fiorentina</td>\n",
       "      <td>7</td>\n",
       "      <td>226.65</td>\n",
       "    </tr>\n",
       "    <tr>\n",
       "      <th>3</th>\n",
       "      <td>AS Monaco</td>\n",
       "      <td>7</td>\n",
       "      <td>343.50</td>\n",
       "    </tr>\n",
       "    <tr>\n",
       "      <th>7</th>\n",
       "      <td>Arsenal FC</td>\n",
       "      <td>7</td>\n",
       "      <td>234.20</td>\n",
       "    </tr>\n",
       "    <tr>\n",
       "      <th>24</th>\n",
       "      <td>FC Barcelona</td>\n",
       "      <td>7</td>\n",
       "      <td>442.50</td>\n",
       "    </tr>\n",
       "    <tr>\n",
       "      <th>57</th>\n",
       "      <td>Southampton FC</td>\n",
       "      <td>6</td>\n",
       "      <td>248.80</td>\n",
       "    </tr>\n",
       "    <tr>\n",
       "      <th>54</th>\n",
       "      <td>Sevilla FC</td>\n",
       "      <td>6</td>\n",
       "      <td>186.00</td>\n",
       "    </tr>\n",
       "    <tr>\n",
       "      <th>29</th>\n",
       "      <td>Inter Milan</td>\n",
       "      <td>6</td>\n",
       "      <td>228.00</td>\n",
       "    </tr>\n",
       "    <tr>\n",
       "      <th>50</th>\n",
       "      <td>SS Lazio</td>\n",
       "      <td>6</td>\n",
       "      <td>226.78</td>\n",
       "    </tr>\n",
       "  </tbody>\n",
       "</table>\n",
       "</div>"
      ],
      "text/plain": [
       "               klub  št. igralcev  skupna vrednost prestopov\n",
       "26         FC Porto            11                     379.60\n",
       "49       SL Benfica            11                     353.50\n",
       "69      Valencia CF             9                     324.05\n",
       "17       Chelsea FC             9                     396.29\n",
       "47      Real Madrid             8                     355.50\n",
       "4           AS Roma             8                     251.40\n",
       "11  Atlético Madrid             8                     289.41\n",
       "2    ACF Fiorentina             7                     226.65\n",
       "3         AS Monaco             7                     343.50\n",
       "7        Arsenal FC             7                     234.20\n",
       "24     FC Barcelona             7                     442.50\n",
       "57   Southampton FC             6                     248.80\n",
       "54       Sevilla FC             6                     186.00\n",
       "29      Inter Milan             6                     228.00\n",
       "50         SS Lazio             6                     226.78"
      ]
     },
     "execution_count": 11,
     "metadata": {},
     "output_type": "execute_result"
    }
   ],
   "source": [
    "po_klubih1 = prestopi.groupby('klub1').agg({'klub1':'size', 'cena':'sum'})\n",
    "po_klubih1 = po_klubih1.reindex_axis(['klub1','cena'], axis=1)\n",
    "po_klubih1 = po_klubih1.rename_axis(None).reset_index()\n",
    "po_klubih1.columns = ['klub', 'št. igralcev','skupna vrednost prestopov']\n",
    "po_klubih1.sort_values('št. igralcev', ascending = False).head(15)"
   ]
  },
  {
   "cell_type": "markdown",
   "metadata": {},
   "source": [
    "Portugalska liga je znana po tem, da kupi in proda veliko igralcev. Eden od razlogov za to je, da se v Braziliji govori portugalsko, zato se veliko nadarjenih Brazilcev ob odhodu v Evropo odloči za Portugalsko. Drugi je, da imajo na Portugalskem sistem, da imajo lahko prodajne pravice za igralce podjetja, zato pogosto sofinancirajo prestope v Portugalske klube (v primeru prodaje dobijo ustrezen delež). Tretji pa je, da portugalski klubi niso tako dobri, da bi lahko redno konkurirali za zmago v Ligi prvakov, zato težko zadržijo najboljše igralce, poleg tega tudi finančno niso tako močni, da bi jih zadržali na tak način.<br>\n",
    "Valencia je imela odlično ekipo, a jo je bila zaradi finančne krize prisiljena razprodati."
   ]
  },
  {
   "cell_type": "code",
   "execution_count": 12,
   "metadata": {},
   "outputs": [
    {
     "data": {
      "text/html": [
       "<div>\n",
       "<style>\n",
       "    .dataframe thead tr:only-child th {\n",
       "        text-align: right;\n",
       "    }\n",
       "\n",
       "    .dataframe thead th {\n",
       "        text-align: left;\n",
       "    }\n",
       "\n",
       "    .dataframe tbody tr th {\n",
       "        vertical-align: top;\n",
       "    }\n",
       "</style>\n",
       "<table border=\"1\" class=\"dataframe\">\n",
       "  <thead>\n",
       "    <tr style=\"text-align: right;\">\n",
       "      <th></th>\n",
       "      <th>klub</th>\n",
       "      <th>št. igralcev</th>\n",
       "      <th>skupna vrednost prestopov</th>\n",
       "    </tr>\n",
       "  </thead>\n",
       "  <tbody>\n",
       "    <tr>\n",
       "      <th>0</th>\n",
       "      <td>AC Milan</td>\n",
       "      <td>8</td>\n",
       "      <td>269.50</td>\n",
       "    </tr>\n",
       "    <tr>\n",
       "      <th>1</th>\n",
       "      <td>AS Monaco</td>\n",
       "      <td>4</td>\n",
       "      <td>143.00</td>\n",
       "    </tr>\n",
       "    <tr>\n",
       "      <th>2</th>\n",
       "      <td>AS Roma</td>\n",
       "      <td>3</td>\n",
       "      <td>89.65</td>\n",
       "    </tr>\n",
       "    <tr>\n",
       "      <th>3</th>\n",
       "      <td>Anzhi Makhachkala</td>\n",
       "      <td>2</td>\n",
       "      <td>62.00</td>\n",
       "    </tr>\n",
       "    <tr>\n",
       "      <th>4</th>\n",
       "      <td>Arsenal FC</td>\n",
       "      <td>5</td>\n",
       "      <td>228.50</td>\n",
       "    </tr>\n",
       "    <tr>\n",
       "      <th>5</th>\n",
       "      <td>Atlético Madrid</td>\n",
       "      <td>8</td>\n",
       "      <td>289.10</td>\n",
       "    </tr>\n",
       "    <tr>\n",
       "      <th>6</th>\n",
       "      <td>Bayern Munich</td>\n",
       "      <td>11</td>\n",
       "      <td>374.00</td>\n",
       "    </tr>\n",
       "    <tr>\n",
       "      <th>7</th>\n",
       "      <td>Borussia Dortmund</td>\n",
       "      <td>4</td>\n",
       "      <td>108.00</td>\n",
       "    </tr>\n",
       "    <tr>\n",
       "      <th>8</th>\n",
       "      <td>Chelsea FC</td>\n",
       "      <td>23</td>\n",
       "      <td>833.70</td>\n",
       "    </tr>\n",
       "    <tr>\n",
       "      <th>9</th>\n",
       "      <td>Crystal Palace</td>\n",
       "      <td>2</td>\n",
       "      <td>59.40</td>\n",
       "    </tr>\n",
       "    <tr>\n",
       "      <th>10</th>\n",
       "      <td>Everton FC</td>\n",
       "      <td>6</td>\n",
       "      <td>197.66</td>\n",
       "    </tr>\n",
       "    <tr>\n",
       "      <th>11</th>\n",
       "      <td>FC Barcelona</td>\n",
       "      <td>18</td>\n",
       "      <td>809.57</td>\n",
       "    </tr>\n",
       "    <tr>\n",
       "      <th>...</th>\n",
       "      <td>...</td>\n",
       "      <td>...</td>\n",
       "      <td>...</td>\n",
       "    </tr>\n",
       "    <tr>\n",
       "      <th>22</th>\n",
       "      <td>Paris Saint-Germain</td>\n",
       "      <td>15</td>\n",
       "      <td>765.35</td>\n",
       "    </tr>\n",
       "    <tr>\n",
       "      <th>23</th>\n",
       "      <td>Parma Calcio 1913</td>\n",
       "      <td>1</td>\n",
       "      <td>28.00</td>\n",
       "    </tr>\n",
       "    <tr>\n",
       "      <th>24</th>\n",
       "      <td>Real Betis Balompié</td>\n",
       "      <td>1</td>\n",
       "      <td>31.50</td>\n",
       "    </tr>\n",
       "    <tr>\n",
       "      <th>25</th>\n",
       "      <td>Real Madrid</td>\n",
       "      <td>28</td>\n",
       "      <td>1180.90</td>\n",
       "    </tr>\n",
       "    <tr>\n",
       "      <th>26</th>\n",
       "      <td>SS Lazio</td>\n",
       "      <td>5</td>\n",
       "      <td>188.97</td>\n",
       "    </tr>\n",
       "    <tr>\n",
       "      <th>27</th>\n",
       "      <td>SSC Napoli</td>\n",
       "      <td>2</td>\n",
       "      <td>71.00</td>\n",
       "    </tr>\n",
       "    <tr>\n",
       "      <th>28</th>\n",
       "      <td>Shanghai SIPG</td>\n",
       "      <td>2</td>\n",
       "      <td>115.80</td>\n",
       "    </tr>\n",
       "    <tr>\n",
       "      <th>29</th>\n",
       "      <td>Tianjin Quanjian</td>\n",
       "      <td>1</td>\n",
       "      <td>29.00</td>\n",
       "    </tr>\n",
       "    <tr>\n",
       "      <th>30</th>\n",
       "      <td>Tottenham Hotspur</td>\n",
       "      <td>6</td>\n",
       "      <td>190.00</td>\n",
       "    </tr>\n",
       "    <tr>\n",
       "      <th>31</th>\n",
       "      <td>Valencia CF</td>\n",
       "      <td>3</td>\n",
       "      <td>83.00</td>\n",
       "    </tr>\n",
       "    <tr>\n",
       "      <th>32</th>\n",
       "      <td>VfL Wolfsburg</td>\n",
       "      <td>2</td>\n",
       "      <td>75.00</td>\n",
       "    </tr>\n",
       "    <tr>\n",
       "      <th>33</th>\n",
       "      <td>Zenit St. Petersburg</td>\n",
       "      <td>3</td>\n",
       "      <td>110.00</td>\n",
       "    </tr>\n",
       "  </tbody>\n",
       "</table>\n",
       "<p>34 rows × 3 columns</p>\n",
       "</div>"
      ],
      "text/plain": [
       "                    klub  št. igralcev  skupna vrednost prestopov\n",
       "0               AC Milan             8                     269.50\n",
       "1              AS Monaco             4                     143.00\n",
       "2                AS Roma             3                      89.65\n",
       "3      Anzhi Makhachkala             2                      62.00\n",
       "4             Arsenal FC             5                     228.50\n",
       "5        Atlético Madrid             8                     289.10\n",
       "6          Bayern Munich            11                     374.00\n",
       "7      Borussia Dortmund             4                     108.00\n",
       "8             Chelsea FC            23                     833.70\n",
       "9         Crystal Palace             2                      59.40\n",
       "10            Everton FC             6                     197.66\n",
       "11          FC Barcelona            18                     809.57\n",
       "..                   ...           ...                        ...\n",
       "22   Paris Saint-Germain            15                     765.35\n",
       "23     Parma Calcio 1913             1                      28.00\n",
       "24   Real Betis Balompié             1                      31.50\n",
       "25           Real Madrid            28                    1180.90\n",
       "26              SS Lazio             5                     188.97\n",
       "27            SSC Napoli             2                      71.00\n",
       "28         Shanghai SIPG             2                     115.80\n",
       "29      Tianjin Quanjian             1                      29.00\n",
       "30     Tottenham Hotspur             6                     190.00\n",
       "31           Valencia CF             3                      83.00\n",
       "32         VfL Wolfsburg             2                      75.00\n",
       "33  Zenit St. Petersburg             3                     110.00\n",
       "\n",
       "[34 rows x 3 columns]"
      ]
     },
     "execution_count": 12,
     "metadata": {},
     "output_type": "execute_result"
    }
   ],
   "source": [
    "po_klubih2 = prestopi.groupby('klub2').agg({'klub2':'size', 'cena':'sum'})\n",
    "po_klubih2 = po_klubih2.reindex_axis(['klub2','cena'], axis=1)\n",
    "po_klubih2 = po_klubih2.rename_axis(None).reset_index()\n",
    "po_klubih2.columns = ['klub', 'št. igralcev','skupna vrednost prestopov']\n",
    "po_klubih2.sort_values('št. igralcev', ascending = False).head(15)\n",
    "po_klubih2"
   ]
  },
  {
   "cell_type": "markdown",
   "metadata": {},
   "source": [
    "Na vrhu so klubi, ki so že desetletja med najboljšimi na svetu (Real Madrid, Manchester United, FC Barcelona, Liverpool FC) in pa klubi, ki so v dobili nove, bogate lastnike in so med najboljšimi v Evropi šele v zadnjih letih ali pa se tja šele prebijajo (Manchester City, Chelsea, PSG, Everton). Vidimo tudi, da je kupovanje dragih igralcev skoraj nujno za doseganje dobrih rezultatov v Ligi prvakov. Od šestnajst klubov, ki so se uvrstili v osmino Lige prvakov, jih je namreč kar 10 na zgornjem seznamu (od tega vseh prvih 9)."
   ]
  },
  {
   "cell_type": "code",
   "execution_count": 13,
   "metadata": {},
   "outputs": [
    {
     "data": {
      "image/png": "[encoded data removed]",
      "text/plain": [
       "<matplotlib.figure.Figure at 0x1c91c83a58>"
      ]
     },
     "metadata": {},
     "output_type": "display_data"
    }
   ],
   "source": [
    "idx = prestopi.groupby(['sezona'])['cena'].transform(max) == prestopi['cena']\n",
    "rekordi_leta = prestopi[idx].sort_values('sezona')\n",
    "rekordi_leta[['sezona', 'liga2', 'klub2']].head(22)\n",
    "rekordi_klubi = rekordi_leta.groupby('klub2')['ime'].count().sort_values(ascending = False)\n",
    "graf = rekordi_klubi.plot(kind = 'bar', title = 'Kolikokrat je posamezen klub opravil največji nakup od sezone 1997/1998 naprej')\n",
    "x_axis = graf.axes.get_xaxis()\n",
    "x_axis.set_label_text('')\n",
    "x_label = x_axis.get_label()\n",
    "x_label.set_visible(False)"
   ]
  },
  {
   "cell_type": "markdown",
   "metadata": {},
   "source": [
    "### Rekordi"
   ]
  },
  {
   "cell_type": "code",
   "execution_count": 14,
   "metadata": {},
   "outputs": [
    {
     "data": {
      "text/plain": [
       "<matplotlib.axes._subplots.AxesSubplot at 0x1c92d478d0>"
      ]
     },
     "execution_count": 14,
     "metadata": {},
     "output_type": "execute_result"
    },
    {
     "data": {
      "image/png": "[encoded data removed]",
      "text/plain": [
       "<matplotlib.figure.Figure at 0x1c91be6e80>"
      ]
     },
     "metadata": {},
     "output_type": "display_data"
    }
   ],
   "source": [
    "rekordi = prestopi.groupby('sezona')['cena'].max()\n",
    "rekordi.plot(kind = 'line', title = 'rekordi po sezonah')"
   ]
  },
  {
   "cell_type": "markdown",
   "metadata": {},
   "source": [
    "Vidimo, da so se velike spremembe začele dogajati šele v zadnjih petih letih. Predtem so bili veliki izdatki bolj izjeme (Real Mardid je v začetku stoletja gradil ekipo \"galaktikov\" in podobno želel narediti tudi po uspehih Barcelone med sezonami 2008/2009 in 2011/2012). Pomemben dejavnik za spremembe v zadnjih letih je, da se je izven Evrope, še posebaj v Severni Ameriki in na Kitajskem, močno povečala popularnost nogometa."
   ]
  },
  {
   "cell_type": "code",
   "execution_count": 15,
   "metadata": {
    "collapsed": true
   },
   "outputs": [],
   "source": [
    "idx = prestopi.groupby(['sezona', 'liga2'])['cena'].transform(max) == prestopi['cena']\n",
    "rekordi_sezona_liga = prestopi[idx].sort_values('sezona')\n",
    "rekordi_sezona_liga = rekordi_sezona_liga.reset_index()\n",
    "rekordi_sezona_liga = rekordi_sezona_liga[['sezona','liga2','cena']]"
   ]
  },
  {
   "cell_type": "code",
   "execution_count": 57,
   "metadata": {},
   "outputs": [
    {
     "data": {
      "text/plain": [
       "Text(0,0.5,'milijonov €')"
      ]
     },
     "execution_count": 57,
     "metadata": {},
     "output_type": "execute_result"
    },
    {
     "data": {
      "image/png": "[encoded data removed]",
      "text/plain": [
       "<matplotlib.figure.Figure at 0x1c9441e240>"
      ]
     },
     "metadata": {},
     "output_type": "display_data"
    }
   ],
   "source": [
    "rekordi_sezona_liga_urejeno = rekordi_sezona_liga\n",
    "rekordi_sezona_liga_urejeno['sezona'].replace(to_replace=\"\\/\\d{4}\", value=\"\", regex=True, inplace=True)\n",
    "rekordi_sezona_liga_urejeno['sezona'] = rekordi_sezona_liga_urejeno['sezona'].astype('int')\n",
    "\n",
    "rekordi_sezona_liga_urejeno = rekordi_sezona_liga.pivot_table(values='cena', index='sezona', columns=\"liga2\")\n",
    "rekordi_sezona_liga_urejeno = rekordi_sezona_liga_urejeno.rename_axis(None).reset_index()\n",
    "rekordi_sezona_liga_urejeno.columns = ['leto', 'Kitajska', 'Anglija','Francija','Nemčija','Italija','Rusija','Španija']\n",
    "rekordi_sezona_liga_urejeno = rekordi_sezona_liga_urejeno[['leto', 'Kitajska', 'Anglija','Francija','Nemčija','Italija','Španija']]\n",
    "graf_rekordi = rekordi_sezona_liga_urejeno[(rekordi_sezona_liga_urejeno.leto > 2007) & (rekordi_sezona_liga_urejeno.leto < 2018)].plot(kind = 'bar', x='leto').legend(bbox_to_anchor=(0.25,1))\n",
    "y_axis = graf_rekordi.axes.get_yaxis()\n",
    "y_axis.set_label_text('milijonov €')"
   ]
  },
  {
   "cell_type": "markdown",
   "metadata": {},
   "source": [
    "Vidimo, da se z leti povečuje tako višina najdražjih nakupov kot tudi njihova pogostost (pred več kot desetimi leti so bili transferji nad 50 milijonov redkost). <br>\n",
    "V zadnjih letih se je močno povečalo vlaganje v nogomet na Kitajskem, kar se odraža v letih 2015 in 2016.  V začetku leta 2017 je tamkajšnja nogometna zveza uvedla 100% davek na igralce iz tujine, zato tam v bližnji prihodnosti ni za pričakovati velikih transferjev.<br>\n",
    "Opazimo lahko tudi, da se Francija na grafu pojavi šele leta 2011, prav vsi francoski rekordi pa pripadajo PSG-ju. Klub so leta 2011 prevzeli lastniki iz Katarja in od takrat v klub vložili ogromno denarja. Podpisali so tudi že pogodbo za nakup novega igralca za prihodnjo sezono v vrednosti 170 milijonov evrov, a bodo plačali poleti, zato tega še ni mogoče opaziti na grafu.<br>\n",
    "V Angliji se višina najvišjih prestopov pošvečuje predvsem zaradi vedno večjih prihodkov od televizijskih pravic (http://www.bbc.com/sport/football/41494042). Za pričakovati je, da bodo angleški klubi tudi v naslednjih letih pogosto plačali več kot 100 milijonov evrov za nakup igralca."
   ]
  },
  {
   "cell_type": "code",
   "execution_count": 53,
   "metadata": {},
   "outputs": [
    {
     "data": {
      "text/plain": [
       "Text(0,0.5,'milijonov €')"
      ]
     },
     "execution_count": 53,
     "metadata": {},
     "output_type": "execute_result"
    },
    {
     "data": {
      "image/png": "[encoded data removed]",
      "text/plain": [
       "<matplotlib.figure.Figure at 0x1c931935f8>"
      ]
     },
     "metadata": {},
     "output_type": "display_data"
    }
   ],
   "source": [
    "top5 = prestopi\n",
    "top5['sezona'].replace(to_replace=\"\\/\\d{4}\", value=\"\", regex=True, inplace=True)\n",
    "top5['sezona'] = top5['sezona'].astype('int')\n",
    "top5 = top5.groupby('sezona')['cena'].apply(lambda grp: grp.nlargest(5))\n",
    "top5 = top5.to_frame()\n",
    "top5 = top5.reset_index(level=1, drop=True)\n",
    "top5 = top5.rename_axis(None).reset_index()\n",
    "top5.columns = ['sezona', 'cena']\n",
    "top5 = top5[(top5.sezona >= 2007) & (top5.sezona < 2018)]\n",
    "cene = top5['cena']\n",
    "\n",
    "nov_index = pd.MultiIndex.from_product([['2007','2008','2009','2010','2011','2012', '2013', '2014', '2015', '2016', '2017'],\n",
    "                                   ['1', '2', '3', '4', '5']],\n",
    "                                   names = ['leto', 'številka'])\n",
    "cene.index = nov_index\n",
    "\n",
    "cene = cene.to_frame()\n",
    "cene = cene.reset_index()\n",
    "cene = cene.pivot_table(values='cena', index='leto', columns=\"številka\")\n",
    "cene = cene.reset_index()\n",
    "graf_sezone = cene.plot(kind = 'bar', x = 'leto', legend = False, title = \"Najdražjih 5 prestopov v posameznem letu\")\n",
    "y_axis = graf_sezone.axes.get_yaxis()\n",
    "y_axis.set_label_text('milijonov €')\n"
   ]
  },
  {
   "cell_type": "markdown",
   "metadata": {},
   "source": [
    "Vidimo, da se cene za najdražje nogometaše hitreje povečujejo šele v zadnjih letih. Istočasno postajajo večje tudi razlike med najdražjim in petim najdražjim prestopom. Iz tega grafa se tudi še enkrat vidi, kako zelo \"nor\" prestop je bil prestop Neymarja iz Barcelone v PSG. Kot je že zgoraj napisano, se tudi v prihodnosti obetajo ogromni prestopi, eden se zna zgoditi še ta mesec. Nogomet po svetu postaja vedno bolj priljubljen, kar pomeni še večje prihodke od televizijskih pravic, kar pomeni, da bodo prestopi nad 100 milijonov evrov verjetno vedno pogostejši."
   ]
  },
  {
   "cell_type": "code",
   "execution_count": 56,
   "metadata": {},
   "outputs": [
    {
     "data": {
      "image/png": "[encoded data removed]",
      "text/plain": [
       "<matplotlib.figure.Figure at 0x1c94512c88>"
      ]
     },
     "metadata": {},
     "output_type": "display_data"
    }
   ],
   "source": [
    "države = ['England','France','Germany','Italy','Spain']\n",
    "top_lige = prestopi[prestopi['liga2'].isin(države)]\n",
    "top_lige = top_lige.groupby('liga2')['cena'].apply(lambda grp: grp.nlargest(10))\n",
    "\n",
    "števke = [1, 2, 3, 4, 5, 6, 7, 8, 9, 10]\n",
    "nov_index = pd.MultiIndex.from_product([države, števke], names = ['država', 'številka'])\n",
    "top_lige.index = nov_index\n",
    "\n",
    "top_lige = top_lige.to_frame()\n",
    "top_lige = top_lige.reset_index()\n",
    "top_lige = top_lige.pivot_table(values='cena', index='država', columns=\"številka\")\n",
    "top_lige = top_lige.reset_index()\n",
    "\n",
    "graf_države = top_lige.plot(kind = 'bar', x = 'država', legend = False, title = \"Najdražjih 10 prestopov v izbranih državah\")\n",
    "\n",
    "x_axis = graf_države.axes.get_xaxis()\n",
    "y_axis = graf_države.axes.get_yaxis()\n",
    "x_axis.set_label_text('')\n",
    "y_axis.set_label_text('milijonov €')\n",
    "x_label = x_axis.get_label()\n",
    "x_label.set_visible(False)"
   ]
  },
  {
   "cell_type": "markdown",
   "metadata": {},
   "source": [
    "Spodnji graf še bolj natančno kaže, da si angleški in španski klubi precej lažje privoščijo visoke odškodnine. V Italiji se je najdražji prestop zgodil, ko je Juventus za 105 milijonov € prodal Pogbaja in je zato lahko toliko plačal."
   ]
  },
  {
   "cell_type": "markdown",
   "metadata": {},
   "source": [
    "### Primerjava klubov med državami"
   ]
  },
  {
   "cell_type": "code",
   "execution_count": 126,
   "metadata": {},
   "outputs": [
    {
     "data": {
      "text/plain": [
       "Text(0,0.5,'')"
      ]
     },
     "execution_count": 126,
     "metadata": {},
     "output_type": "execute_result"
    },
    {
     "data": {
      "image/png": "[encoded data removed]",
      "text/plain": [
       "<matplotlib.figure.Figure at 0x1c94964d30>"
      ]
     },
     "metadata": {},
     "output_type": "display_data"
    },
    {
     "data": {
      "image/png": "[encoded data removed]",
      "text/plain": [
       "<matplotlib.figure.Figure at 0x1c95ca08d0>"
      ]
     },
     "metadata": {},
     "output_type": "display_data"
    },
    {
     "data": {
      "image/png": "[encoded data removed]",
      "text/plain": [
       "<matplotlib.figure.Figure at 0x1c949e7080>"
      ]
     },
     "metadata": {},
     "output_type": "display_data"
    },
    {
     "data": {
      "image/png": "[encoded data removed]",
      "text/plain": [
       "<matplotlib.figure.Figure at 0x1c96286518>"
      ]
     },
     "metadata": {},
     "output_type": "display_data"
    },
    {
     "data": {
      "image/png": "[encoded data removed]",
      "text/plain": [
       "<matplotlib.figure.Figure at 0x1c96061630>"
      ]
     },
     "metadata": {},
     "output_type": "display_data"
    }
   ],
   "source": [
    "#funkcija, ki na grafe napiše točne številke\n",
    "def make_autopct(values):\n",
    "    def my_autopct(pct):\n",
    "        total = sum(values)\n",
    "        val = int(round(pct*total/100.0))\n",
    "        return '{v:d}'.format(p=pct,v=val)\n",
    "    return my_autopct\n",
    "\n",
    "Francija = prestopi[prestopi['liga2'] == 'France'].groupby('klub2').count()['ime']\n",
    "Francija = Francija.to_frame()\n",
    "Francija = Francija.sort_values(by = 'ime')#, ascending = False)\n",
    "Francija = Francija.reset_index()\n",
    "Francija.columns = ['klub', 'št. nakupov']\n",
    "Francija['št. nakupov'] = Francija['št. nakupov']\n",
    "Francija.index = Francija['klub']\n",
    "\n",
    "cifre = Francija['št. nakupov'].astype('int')\n",
    "graf_Francija = Francija.plot(kind = 'pie', y = 'št. nakupov', autopct = make_autopct(cifre), legend = False, title = 'FRANCIJA')\n",
    "y_axis = graf_Francija.axes.get_yaxis()\n",
    "y_axis.set_label_text('')\n",
    "\n",
    "\n",
    "Anglija = prestopi[prestopi['liga2'] == 'England'].groupby('klub2').count()['ime']\n",
    "Anglija = Anglija.to_frame()\n",
    "Anglija = Anglija.sort_values(by = 'ime')#, ascending = False)\n",
    "Anglija = Anglija.reset_index()\n",
    "Anglija.columns = ['klub', 'št. nakupov']\n",
    "Anglija['št. nakupov'] = Anglija['št. nakupov']\n",
    "Anglija.index = Anglija['klub']\n",
    "\n",
    "cifre = Anglija['št. nakupov'].astype('int')\n",
    "graf_Anglija = Anglija.plot(kind = 'pie', y = 'št. nakupov', autopct = make_autopct(cifre), legend = False, title = 'ANGLIJA')\n",
    "y_axis = graf_Anglija.axes.get_yaxis()\n",
    "y_axis.set_label_text('')\n",
    "\n",
    "\n",
    "Španija = prestopi[prestopi['liga2'] == 'Spain'].groupby('klub2').count()['ime']\n",
    "Španija = Španija.to_frame()\n",
    "Španija = Španija.sort_values(by = 'ime')#, ascending = False)\n",
    "Španija = Španija.reset_index()\n",
    "Španija.columns = ['klub', 'št. nakupov']\n",
    "Španija['št. nakupov'] = Španija['št. nakupov']\n",
    "Španija.index = Španija['klub']\n",
    "\n",
    "cifre = Španija['št. nakupov'].astype('int')\n",
    "graf_Španija = Španija.plot(kind = 'pie', y = 'št. nakupov', autopct = make_autopct(cifre), legend = False, title = 'ŠPANIJA')\n",
    "y_axis = graf_Španija.axes.get_yaxis()\n",
    "y_axis.set_label_text('')\n",
    "\n",
    "\n",
    "Nemčija = prestopi[prestopi['liga2'] == 'Germany'].groupby('klub2').count()['ime']\n",
    "Nemčija = Nemčija.to_frame()\n",
    "Nemčija = Nemčija.sort_values(by = 'ime')#, ascending = False)\n",
    "Nemčija = Nemčija.reset_index()\n",
    "Nemčija.columns = ['klub', 'št. nakupov']\n",
    "Nemčija['št. nakupov'] = Nemčija['št. nakupov']\n",
    "Nemčija.index = Nemčija['klub']\n",
    "\n",
    "cifre = Nemčija['št. nakupov'].astype('int')\n",
    "graf_Nemčija = Nemčija.plot(kind = 'pie', y = 'št. nakupov', autopct = make_autopct(cifre), legend = False, title = 'NEMČIJA')\n",
    "y_axis = graf_Nemčija.axes.get_yaxis()\n",
    "y_axis.set_label_text('')\n",
    "\n",
    "Italija = prestopi[prestopi['liga2'] == 'Italy'].groupby('klub2').count()['ime']\n",
    "Italija = Italija.to_frame()\n",
    "Italija = Italija.sort_values(by = 'ime')#, ascending = False)\n",
    "Italija = Italija.reset_index()\n",
    "Italija.columns = ['klub', 'št. nakupov']\n",
    "Italija['št. nakupov'] = Italija['št. nakupov']\n",
    "Italija.index = Italija['klub']\n",
    "\n",
    "cifre = Italija['št. nakupov'].astype('int')\n",
    "graf_Italija = Italija.plot(kind = 'pie', y = 'št. nakupov', autopct = make_autopct(cifre), legend = False, title = 'ITALIJA')\n",
    "y_axis = graf_Italija.axes.get_yaxis()\n",
    "y_axis.set_label_text('')\n"
   ]
  },
  {
   "cell_type": "markdown",
   "metadata": {},
   "source": [
    "Vidimo, da je v vseh največjih petih ligah nekaj klubov, ki so finančno veliko pred ostalimi. To je najbolj izrazito v Franciji in Nemčiji, kjer je za večino največjih prestopov zaslužen po en klub. V Španiji je v zadnjih letih Atletico sicer nekoliko bližje Barceloni in Real Madridu, toda kljub temu daleč od njiju. Če pogledamo na lestvico angleške premier lige (http://www.skysports.com/premier-league-table, 6.1.2018) so na prvih štirih mestih ekipe, ki so največkrat kupile drage igralce (slučajno so trenutno celo v enakem vrstnem redu). Med vsemi klubi, ki so kupile igralca za več kot 25 milijonov evrov, sta Pamra Calcio 1913 in Leeds United edina kluba, ki trenutno ne igrata v prvi državni nogometni ligi. Velja pa tukaj omeniti, da se za take igralce le redko odločajo ekipe, ki se borijo za obstanek v najboljši ligi, poleg tega pa dobri igralci v take klube niti ne želijo prestopati. "
   ]
  }
 ],
 "metadata": {
  "kernelspec": {
   "display_name": "Python 3",
   "language": "python",
   "name": "python3"
  },
  "language_info": {
   "codemirror_mode": {
    "name": "ipython",
    "version": 3
   },
   "file_extension": ".py",
   "mimetype": "text/x-python",
   "name": "python",
   "nbconvert_exporter": "python",
   "pygments_lexer": "ipython3",
   "version": "3.6.3"
  }
 },
 "nbformat": 4,
 "nbformat_minor": 2
}
